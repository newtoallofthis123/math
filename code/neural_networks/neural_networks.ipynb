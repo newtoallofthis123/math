{
 "cells": [
  {
   "cell_type": "code",
   "execution_count": 1,
   "metadata": {
    "slideshow": {
     "slide_type": "slide"
    }
   },
   "outputs": [
    {
     "name": "stdout",
     "output_type": "stream",
     "text": [
      "ACCURACY:  0.6636971046770584\n"
     ]
    }
   ],
   "source": [
    "import numpy as np\n",
    "import pandas as pd\n",
    "from sklearn.model_selection import train_test_split\n",
    "all_data = pd.read_csv(\"https://tinyurl.com/y2qmhfsr\")\n",
    "# Extract the input columns, scale down by 255\n",
    "all_inputs = (all_data.iloc[:, 0:3].values / 255.0)\n",
    "all_outputs = all_data.iloc[:, -1].values\n",
    "# Split train and test data sets\n",
    "X_train, X_test, Y_train, Y_test = train_test_split(all_inputs, all_outputs,\n",
    "                                                    test_size=1/3)\n",
    "n = X_train.shape[0]  # number of training records\n",
    "# Build neural network with weights and biases\n",
    "# with random initialization\n",
    "w_hidden = np.random.rand(3, 3)\n",
    "w_output = np.random.rand(1, 3)\n",
    "b_hidden = np.random.rand(3, 1)\n",
    "b_output = np.random.rand(1, 1)\n",
    "\n",
    "# Activation functions\n",
    "def relu(x): return np.maximum(x, 0)\n",
    "def logistic(x): return 1 / (1 + np.exp(-x))\n",
    "\n",
    "# Runs inputs through the neural network to get predicted outputs\n",
    "def forward_prop(X):\n",
    "    Z1 = w_hidden @ X + b_hidden\n",
    "    A1 = relu(Z1)\n",
    "    Z2 = w_output @ A1 + b_output\n",
    "    A2 = logistic(Z2)\n",
    "    return Z1, A1, Z2, A2\n",
    "# Calculate accuracy\n",
    "\n",
    "test_predictions = forward_prop(X_test.transpose())[3]  # grab only output layer, A2\n",
    "test_comparisons = np.equal((test_predictions >= .5).flatten().astype(int),\n",
    "                            Y_test)\n",
    "accuracy = sum(test_comparisons.astype(int) / X_test.shape[0])\n",
    "print(\"ACCURACY: \", accuracy)\n"
   ]
  },
  {
   "cell_type": "code",
   "execution_count": null,
   "metadata": {},
   "outputs": [],
   "source": []
  }
 ],
 "metadata": {
  "kernelspec": {
   "display_name": "Python 3",
   "language": "python",
   "name": "python3"
  },
  "language_info": {
   "codemirror_mode": {
    "name": "ipython",
    "version": 3
   },
   "file_extension": ".py",
   "mimetype": "text/x-python",
   "name": "python",
   "nbconvert_exporter": "python",
   "pygments_lexer": "ipython3",
   "version": "3.10.8"
  },
  "orig_nbformat": 4
 },
 "nbformat": 4,
 "nbformat_minor": 2
}

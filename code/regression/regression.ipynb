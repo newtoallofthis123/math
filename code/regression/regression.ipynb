{
 "cells": [
  {
   "attachments": {},
   "cell_type": "markdown",
   "metadata": {},
   "source": [
    "# Linear Regression\n",
    "\n",
    "We will be using SciKit Learn's Linear Regression model to fit a line to the data and using pandas to read the data from a CSV file."
   ]
  },
  {
   "cell_type": "code",
   "execution_count": 2,
   "metadata": {},
   "outputs": [],
   "source": [
    "import pandas as pd\n",
    "import matplotlib.pyplot as plt\n",
    "from sklearn.linear_model import LinearRegression"
   ]
  },
  {
   "cell_type": "code",
   "execution_count": 4,
   "metadata": {},
   "outputs": [
    {
     "name": "stdout",
     "output_type": "stream",
     "text": [
      "m = [1.], b = [7.10542736e-15]\n"
     ]
    },
    {
     "data": {
      "image/png": "[encoded data removed]",
      "text/plain": [
       "<Figure size 640x480 with 1 Axes>"
      ]
     },
     "metadata": {},
     "output_type": "display_data"
    }
   ],
   "source": [
    "df = pd.read_csv('https://bit.ly/3goOAnt', delimiter=',')\n",
    "\n",
    "x = df.values[:, -1].reshape(-1, 1)\n",
    "\n",
    "y = df.values[:, -1].reshape(-1, 1)\n",
    "\n",
    "fit = LinearRegression().fit(x, y)\n",
    "\n",
    "m = fit.coef_.flatten()\n",
    "b = fit.intercept_.flatten()\n",
    "\n",
    "print(f\"m = {m}, b = {b}\")\n",
    "\n",
    "plt.scatter(x, y)\n",
    "plt.plot(x, m*x + b, color='red')\n",
    "plt.show()"
   ]
  },
  {
   "attachments": {},
   "cell_type": "markdown",
   "metadata": {},
   "source": [
    "## How it actually works\n",
    "\n",
    "The basic explaination of how linear regression works is that it tries to find the best fit line for the given data points. The best fit line is the one which has the least error. The error is calculated by the difference between the actual value and the predicted value. The predicted value is calculated by the equation of the line.\n",
    "\n",
    "These values are called residuals. The sum of the squares of the residuals is called the sum of squared errors (SSE). The line with the least SSE is the best fit line."
   ]
  },
  {
   "cell_type": "code",
   "execution_count": 6,
   "metadata": {},
   "outputs": [
    {
     "name": "stdout",
     "output_type": "stream",
     "text": [
      "[2.67, 5.84, 4.0, 7.17, 4.34, 3.51, 5.68, 2.84, 8.01, 4.18]\n"
     ]
    }
   ],
   "source": [
    "# Calculating the residuals\n",
    "\n",
    "import pandas as pd\n",
    "\n",
    "df = pd.read_csv('https://bit.ly/3goOAnt', delimiter=',').itertuples()\n",
    "\n",
    "residuals = []\n",
    "\n",
    "# Test line\n",
    "# y = 1.832x + 0.5\n",
    "m = 1.832\n",
    "b = 0.5\n",
    "\n",
    "for point in df:\n",
    "    actual = point.y\n",
    "    predicted = m*point.x + b\n",
    "    residuals.append(round(actual - predicted, 2))\n",
    "\n",
    "print(residuals)"
   ]
  },
  {
   "attachments": {},
   "cell_type": "markdown",
   "metadata": {},
   "source": [
    "We calculate the squares of the residuals because the residuals can be positive or negative and if we don't square them, the positive and negative values will cancel each other out.\n",
    "\n",
    "Positive and negative values also don't do well with calculus."
   ]
  },
  {
   "cell_type": "code",
   "execution_count": 1,
   "metadata": {},
   "outputs": [
    {
     "name": "stdout",
     "output_type": "stream",
     "text": [
      "[2.35, 2.68, 0.04, 8.83, 0.02, 0.48, 2.18, 1.84, 14.53, 0.0]\n"
     ]
    }
   ],
   "source": [
    "# Calculating the sum of squared residuals\n",
    "\n",
    "import pandas as pd\n",
    "import math\n",
    "\n",
    "df = pd.read_csv('https://bit.ly/3goOAnt', delimiter=',').itertuples()\n",
    "\n",
    "residuals = []\n",
    "\n",
    "m = 1.832\n",
    "b = 4.7\n",
    "\n",
    "for point in df:\n",
    "    actual = point.y\n",
    "    predicted = m*point.x + b\n",
    "    residuals.append(round(math.pow(actual - predicted, 2), 2))\n",
    "\n",
    "print(residuals)"
   ]
  },
  {
   "attachments": {},
   "cell_type": "markdown",
   "metadata": {},
   "source": [
    "## Gradient Descent\n",
    "\n",
    "Gradient descent is an optimization algorithm which is used to find the minimum of a function. In our case, the function is the SSE. The minimum of the SSE is the best fit line.\n",
    "\n",
    "Testing out the gradient descent for\n",
    "\n",
    "$$\n",
    "y = (x-3)^2 + 4\n",
    "$$"
   ]
  },
  {
   "cell_type": "code",
   "execution_count": 2,
   "metadata": {},
   "outputs": [
    {
     "name": "stdout",
     "output_type": "stream",
     "text": [
      "3.000000000000111 4.0\n"
     ]
    }
   ],
   "source": [
    "import random\n",
    "def f(x):\n",
    "    return (x - 3) ** 2 + 4\n",
    "def dx_f(x):\n",
    "    return 2*(x - 3)\n",
    "# The learning rate\n",
    "L = 0.001\n",
    "# The number of iterations to perform gradient descent\n",
    "iterations = 100_000\n",
    "# start at a random x\n",
    "x = random.randint(-15, 15)\n",
    "for i in range(iterations):\n",
    "    # get slope\n",
    "    d_x = dx_f(x)\n",
    "    # update x by subtracting the (learning rate) * (slope)\n",
    "    x -= L * d_x\n",
    "print(x, f(x))  # prints 2.999999999999889 4.0\n"
   ]
  },
  {
   "attachments": {},
   "cell_type": "markdown",
   "metadata": {},
   "source": [
    "Fine tuning this by introducing \n",
    "$m$ and \n",
    "$b$\n",
    "\n",
    "To calculate, we first derivate the MSE:\n",
    "\n",
    "$$\n",
    "MSE = \\frac{1}{n}\\sum_{i=1}^{n}(y_i - \\hat{y_i})^2\n",
    "$$\n",
    "\n",
    "Now, derivating this with respect to $m$ and $b$:\n",
    "\n",
    "$$\n",
    "\\frac{\\partial MSE}{\\partial m} = \\frac{2}{n}\\sum_{i=1}^{n}-x_i(y_i - \\hat{y_i})\n",
    "\n",
    "\\frac{\\partial MSE}{\\partial b} = \\frac{2}{n}\\sum_{i=1}^{n}-(y_i - \\hat{y_i})\n",
    "$$\n",
    "\n",
    "Hence, we substitute the values of $m$ and $b$ as \n",
    "\n",
    "$$\n",
    "\\frac{1}{n} * \\sum_{i=1}^{n}2x_i(y_i - \\hat{y_i})\n",
    "$$"
   ]
  },
  {
   "cell_type": "code",
   "execution_count": 5,
   "metadata": {},
   "outputs": [
    {
     "name": "stdout",
     "output_type": "stream",
     "text": [
      "y = 1.9393939393940933x + 4.733333333332265\n"
     ]
    }
   ],
   "source": [
    "import pandas as pd\n",
    "# Import points from CSV\n",
    "points = list(pd.read_csv(\"https://bit.ly/2KF29Bd\").itertuples())\n",
    "# Building the model\n",
    "m = 0.0\n",
    "b = 0.0\n",
    "# The learning Rate\n",
    "L = .001\n",
    "# The number of iterations\n",
    "iterations = 100_000\n",
    "n = float(len(points))  # Number of elements in X\n",
    "# Perform Gradient Descent\n",
    "for i in range(iterations):\n",
    "    # slope with respect to m\n",
    "    D_m = sum(1/n* 2 * p.x * ((m * p.x + b) - p.y) for p in points)\n",
    "    # slope with respect to b\n",
    "    D_b = sum(1/n * 2 * ((m * p.x + b) - p.y) for p in points)\n",
    "    # update m and b\n",
    "    m -= L * D_m\n",
    "    b -= L * D_b\n",
    "print(\"y = {0}x + {1}\".format(m, b))\n"
   ]
  },
  {
   "attachments": {},
   "cell_type": "markdown",
   "metadata": {},
   "source": [
    "## Stochastic Gradient Descent\n",
    "\n",
    "Stochastic gradient descent is a variation of gradient descent that uses an iterative method to find the minimum and use a smaller batch of data to calculate the gradient. This is done to reduce the computational cost of gradient descent."
   ]
  },
  {
   "cell_type": "code",
   "execution_count": 14,
   "metadata": {},
   "outputs": [
    {
     "name": "stdout",
     "output_type": "stream",
     "text": [
      "y = 1.9420423045453836x + 4.729345887887508\n"
     ]
    }
   ],
   "source": [
    "#!TODO: Learn how to do this\n",
    "#! I Have No Idea what the hell is going on here\n",
    "\n",
    "import pandas as pd\n",
    "import numpy as np\n",
    "# Input data\n",
    "data = pd.read_csv('https://bit.ly/2KF29Bd', header=0)\n",
    "X = data.iloc[:, 0].values\n",
    "Y = data.iloc[:, 1].values\n",
    "n = data.shape[0]  # rows\n",
    "# Building the model\n",
    "m = 0.0\n",
    "b = 0.0\n",
    "sample_size = 1  # sample size\n",
    "L = .0001  # The learning Rate\n",
    "epochs = 1_000_000  # The number of iterations to perform gradient descent\n",
    "# Performing Stochastic Gradient Descent\n",
    "for i in range(epochs):\n",
    "    idx = np.random.choice(n, sample_size, replace=False)\n",
    "    x_sample = X[idx]\n",
    "    y_sample = Y[idx]\n",
    "    # The current predicted value of Y\n",
    "    Y_pred = m * x_sample + b\n",
    "    # d/dm derivative of loss function\n",
    "    D_m = (-2 / sample_size) * sum(x_sample * (y_sample - Y_pred))\n",
    "    # d/db derivative of loss function\n",
    "    D_b = (-2 / sample_size) * sum(y_sample - Y_pred)\n",
    "    m = m - L * D_m  # Update m\n",
    "    b = b - L * D_b  # Update b\n",
    "    \n",
    "    # print progress\n",
    "    # if i % 10000 == 0:\n",
    "        # print(i, m, b)\n",
    "print(\"y = {0}x + {1}\".format(m, b))"
   ]
  },
  {
   "cell_type": "code",
   "execution_count": null,
   "metadata": {},
   "outputs": [],
   "source": []
  }
 ],
 "metadata": {
  "kernelspec": {
   "display_name": "Python 3 (ipykernel)",
   "language": "python",
   "name": "python3"
  },
  "language_info": {
   "codemirror_mode": {
    "name": "ipython",
    "version": 3
   },
   "file_extension": ".py",
   "mimetype": "text/x-python",
   "name": "python",
   "nbconvert_exporter": "python",
   "pygments_lexer": "ipython3",
   "version": "3.10.8"
  }
 },
 "nbformat": 4,
 "nbformat_minor": 4
}

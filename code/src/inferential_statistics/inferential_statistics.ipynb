{
 "cells": [
  {
   "attachments": {},
   "cell_type": "markdown",
   "metadata": {},
   "source": [
    "# Measure of central tendency\n",
    "\n",
    "Measures of central tendency are measures that locate the center of a distribution of data. The mean, median, and mode are the three most commonly used measures of central tendency.\n",
    "\n",
    "## Mean"
   ]
  },
  {
   "cell_type": "code",
   "execution_count": 1,
   "metadata": {},
   "outputs": [
    {
     "name": "stdout",
     "output_type": "stream",
     "text": [
      "5.0\n"
     ]
    }
   ],
   "source": [
    "sample = [2, 4, 1, 6, 5, 3, 7, 8, 9]\n",
    "\n",
    "mean = sum(sample) / len(sample)\n",
    "print(mean)"
   ]
  },
  {
   "attachments": {},
   "cell_type": "markdown",
   "metadata": {},
   "source": [
    "### Weighted Mean\n",
    "\n",
    "Weighted mean on the other hand doesn't give an equal weight to all the values. It is the sum of the product of the values and their weights divided by the sum of the weights."
   ]
  },
  {
   "cell_type": "code",
   "execution_count": 7,
   "metadata": {},
   "outputs": [
    {
     "name": "stdout",
     "output_type": "stream",
     "text": [
      "0.7037037037037037\n"
     ]
    }
   ],
   "source": [
    "sample = [2, 4, 1, 6, 5, 3, 7, 8, 9]\n",
    "weights = [i/sum(sample) for i in sample]\n",
    "\n",
    "mean = sum([a*b for a,b in zip(sample, weights)]) / len(sample)\n",
    "print(mean)\n"
   ]
  },
  {
   "attachments": {},
   "cell_type": "markdown",
   "metadata": {},
   "source": [
    "### Median\n",
    "\n",
    "The median is the midpoint of a distribution of data. It is the value that divides the data into two equal parts. Half the values are less than or equal to the median and half the values are greater than or equal to the median. The median is the middle value when the data are arranged in order of increasing magnitude."
   ]
  },
  {
   "cell_type": "code",
   "execution_count": 8,
   "metadata": {},
   "outputs": [
    {
     "name": "stdout",
     "output_type": "stream",
     "text": [
      "5\n"
     ]
    }
   ],
   "source": [
    "sample = [2, 4, 1, 6, 5, 3, 7, 8, 9]\n",
    "\n",
    "def median(sample):\n",
    "    ordered = sorted(sample)\n",
    "    n = len(sample)\n",
    "    mid = int(n/2) - 1 if n % 2 == 0 else int(n/2)\n",
    "\n",
    "    if n % 2 == 0:\n",
    "        return (ordered[mid] + ordered[mid+1]) / 2\n",
    "    else:\n",
    "        return ordered[mid]\n",
    "    \n",
    "print(median(sample))"
   ]
  },
  {
   "attachments": {},
   "cell_type": "markdown",
   "metadata": {},
   "source": [
    "### Mode\n",
    "\n",
    "Mode is the value that occurs most frequently in a data set. A data set can have more than one mode or no mode at all. A data set with two modes is called bimodal. A data set with more than two modes is called multimodal. A data set with no mode is called amodal."
   ]
  },
  {
   "cell_type": "code",
   "execution_count": 13,
   "metadata": {},
   "outputs": [
    {
     "name": "stdout",
     "output_type": "stream",
     "text": [
      "[2, 3]\n"
     ]
    }
   ],
   "source": [
    "from collections import defaultdict\n",
    "\n",
    "sample = [1, 3, 2, 5, 7, 0, 2, 3]\n",
    "\n",
    "\n",
    "def mode(values):\n",
    "    counts = defaultdict(lambda: 0)\n",
    "\n",
    "    for s in values:\n",
    "        counts[s] += 1\n",
    "\n",
    "    max_count = max(counts.values())\n",
    "    modes = [v for v in set(values) if counts[v] == max_count]\n",
    "    return modes\n",
    "\n",
    "print(mode(sample))"
   ]
  },
  {
   "cell_type": "code",
   "execution_count": null,
   "metadata": {},
   "outputs": [],
   "source": []
  }
 ],
 "metadata": {
  "kernelspec": {
   "display_name": "Python 3",
   "language": "python",
   "name": "python3"
  },
  "language_info": {
   "codemirror_mode": {
    "name": "ipython",
    "version": 3
   },
   "file_extension": ".py",
   "mimetype": "text/x-python",
   "name": "python",
   "nbconvert_exporter": "python",
   "pygments_lexer": "ipython3",
   "version": "3.10.8"
  },
  "orig_nbformat": 4
 },
 "nbformat": 4,
 "nbformat_minor": 2
}

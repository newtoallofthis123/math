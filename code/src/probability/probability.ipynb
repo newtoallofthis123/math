{
 "cells": [
  {
   "cell_type": "code",
   "execution_count": 1,
   "metadata": {},
   "outputs": [],
   "source": [
    "sample_space = 14"
   ]
  },
  {
   "cell_type": "code",
   "execution_count": 2,
   "metadata": {},
   "outputs": [],
   "source": [
    "p_a = 3/sample_space"
   ]
  },
  {
   "cell_type": "code",
   "execution_count": 3,
   "metadata": {},
   "outputs": [],
   "source": [
    "p_b = 4/sample_space"
   ]
  },
  {
   "cell_type": "code",
   "execution_count": 5,
   "metadata": {},
   "outputs": [
    {
     "name": "stdout",
     "output_type": "stream",
     "text": [
      "P(A) =  0.21428571428571427\n",
      "P(B) =  0.2857142857142857\n",
      "P(A and B) =  0.06122448979591836\n",
      "P(A or B) =  0.4387755102040816\n"
     ]
    }
   ],
   "source": [
    "p_a_and_b = p_a * p_b\n",
    "p_a_or_b = p_a + p_b - p_a_and_b\n",
    "\n",
    "print(\"P(A) = \", p_a)\n",
    "print(\"P(B) = \", p_b)\n",
    "print(\"P(A and B) = \", p_a_and_b)\n",
    "print(\"P(A or B) = \", p_a_or_b)"
   ]
  },
  {
   "cell_type": "code",
   "execution_count": null,
   "metadata": {},
   "outputs": [],
   "source": []
  }
 ],
 "metadata": {
  "kernelspec": {
   "display_name": "Python 3",
   "language": "python",
   "name": "python3"
  },
  "language_info": {
   "codemirror_mode": {
    "name": "ipython",
    "version": 3
   },
   "file_extension": ".py",
   "mimetype": "text/x-python",
   "name": "python",
   "nbconvert_exporter": "python",
   "pygments_lexer": "ipython3",
   "version": "3.10.8"
  },
  "orig_nbformat": 4
 },
 "nbformat": 4,
 "nbformat_minor": 2
}

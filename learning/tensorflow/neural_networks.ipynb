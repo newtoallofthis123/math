{
 "cells": [
  {
   "cell_type": "code",
   "execution_count": 1,
   "metadata": {},
   "outputs": [],
   "source": [
    "import tensorflow as tf\n",
    "import numpy as np\n",
    "import matplotlib.pyplot as plt\n",
    "import pandas as pd\n",
    "from tensorflow import keras"
   ]
  },
  {
   "cell_type": "code",
   "execution_count": 2,
   "metadata": {},
   "outputs": [],
   "source": [
    "mnist = keras.datasets.mnist"
   ]
  },
  {
   "cell_type": "code",
   "execution_count": 3,
   "metadata": {},
   "outputs": [
    {
     "name": "stdout",
     "output_type": "stream",
     "text": [
      "(60000, 28, 28) (60000,)\n"
     ]
    }
   ],
   "source": [
    "(x_train, y_train), (x_test, y_test) = mnist.load_data()\n",
    "print(x_train.shape, y_train.shape)"
   ]
  },
  {
   "cell_type": "code",
   "execution_count": 8,
   "metadata": {},
   "outputs": [],
   "source": [
    "x_train , x_test = x_train / 255.0, x_test / 255.0"
   ]
  },
  {
   "cell_type": "code",
   "execution_count": 9,
   "metadata": {},
   "outputs": [
    {
     "data": {
      "image/png": "[encoded data removed]",
      "text/plain": [
       "<Figure size 640x480 with 6 Axes>"
      ]
     },
     "metadata": {},
     "output_type": "display_data"
    }
   ],
   "source": [
    "for i in range(6):\n",
    "    plt.subplot(2, 3, i+1)\n",
    "    plt.imshow(x_train[i], cmap='gray')\n",
    "plt.show()"
   ]
  },
  {
   "cell_type": "code",
   "execution_count": 115,
   "metadata": {},
   "outputs": [
    {
     "name": "stdout",
     "output_type": "stream",
     "text": [
      "Model: \"sequential_13\"\n",
      "_________________________________________________________________\n",
      " Layer (type)                Output Shape              Param #   \n",
      "=================================================================\n",
      " flatten_4 (Flatten)         (None, 784)               0         \n",
      "                                                                 \n",
      " re_lu (ReLU)                (None, 784)               0         \n",
      "                                                                 \n",
      " dense_11 (Dense)            (None, 256)               200960    \n",
      "                                                                 \n",
      " re_lu_1 (ReLU)              (None, 256)               0         \n",
      "                                                                 \n",
      " dense_12 (Dense)            (None, 64)                16448     \n",
      "                                                                 \n",
      " dense_13 (Dense)            (None, 10)                650       \n",
      "                                                                 \n",
      "=================================================================\n",
      "Total params: 218058 (851.79 KB)\n",
      "Trainable params: 218058 (851.79 KB)\n",
      "Non-trainable params: 0 (0.00 Byte)\n",
      "_________________________________________________________________\n"
     ]
    }
   ],
   "source": [
    "model = keras.models.Sequential([\n",
    "    keras.layers.Flatten(input_shape=(28, 28)),\n",
    "    keras.layers.ReLU(),\n",
    "    keras.layers.Dense(256),\n",
    "    keras.layers.ReLU(),\n",
    "    keras.layers.Dense(64),\n",
    "    keras.layers.Dense(10)\n",
    "])\n",
    "\n",
    "model.summary()"
   ]
  },
  {
   "cell_type": "code",
   "execution_count": 116,
   "metadata": {},
   "outputs": [],
   "source": [
    "loss = keras.losses.SparseCategoricalCrossentropy(from_logits=True, reduction='auto')\n",
    "optim = keras.optimizers.Adam(learning_rate=0.0001)\n",
    "metrics = ['accuracy']"
   ]
  },
  {
   "cell_type": "code",
   "execution_count": 117,
   "metadata": {},
   "outputs": [],
   "source": [
    "model.compile(optimizer=optim, loss=loss, metrics=metrics)"
   ]
  },
  {
   "cell_type": "code",
   "execution_count": 118,
   "metadata": {},
   "outputs": [],
   "source": [
    "batch_size = 64\n",
    "epochs = 10"
   ]
  },
  {
   "cell_type": "code",
   "execution_count": 119,
   "metadata": {},
   "outputs": [
    {
     "name": "stdout",
     "output_type": "stream",
     "text": [
      "Epoch 1/10\n",
      "750/750 - 4s - loss: 0.6140 - accuracy: 0.8438 - val_loss: 0.2890 - val_accuracy: 0.9222 - 4s/epoch - 6ms/step\n",
      "Epoch 2/10\n",
      "750/750 - 3s - loss: 0.2682 - accuracy: 0.9257 - val_loss: 0.2245 - val_accuracy: 0.9368 - 3s/epoch - 4ms/step\n",
      "Epoch 3/10\n",
      "750/750 - 3s - loss: 0.2100 - accuracy: 0.9409 - val_loss: 0.1863 - val_accuracy: 0.9499 - 3s/epoch - 4ms/step\n",
      "Epoch 4/10\n",
      "750/750 - 3s - loss: 0.1726 - accuracy: 0.9511 - val_loss: 0.1585 - val_accuracy: 0.9569 - 3s/epoch - 4ms/step\n",
      "Epoch 5/10\n",
      "750/750 - 3s - loss: 0.1457 - accuracy: 0.9585 - val_loss: 0.1434 - val_accuracy: 0.9603 - 3s/epoch - 4ms/step\n",
      "Epoch 6/10\n",
      "750/750 - 3s - loss: 0.1255 - accuracy: 0.9649 - val_loss: 0.1301 - val_accuracy: 0.9638 - 3s/epoch - 4ms/step\n",
      "Epoch 7/10\n",
      "750/750 - 3s - loss: 0.1095 - accuracy: 0.9699 - val_loss: 0.1212 - val_accuracy: 0.9639 - 3s/epoch - 4ms/step\n",
      "Epoch 8/10\n",
      "750/750 - 3s - loss: 0.0967 - accuracy: 0.9734 - val_loss: 0.1100 - val_accuracy: 0.9684 - 3s/epoch - 4ms/step\n",
      "Epoch 9/10\n",
      "750/750 - 3s - loss: 0.0852 - accuracy: 0.9761 - val_loss: 0.1071 - val_accuracy: 0.9693 - 3s/epoch - 4ms/step\n",
      "Epoch 10/10\n",
      "750/750 - 3s - loss: 0.0756 - accuracy: 0.9786 - val_loss: 0.1001 - val_accuracy: 0.9720 - 3s/epoch - 4ms/step\n"
     ]
    }
   ],
   "source": [
    "history = model.fit(x_train, y_train, batch_size=batch_size, epochs=epochs, validation_split=0.2, shuffle=True, verbose=2, workers=4, use_multiprocessing=True)"
   ]
  },
  {
   "cell_type": "code",
   "execution_count": 120,
   "metadata": {},
   "outputs": [
    {
     "name": "stdout",
     "output_type": "stream",
     "text": [
      "157/157 - 1s - loss: 0.0978 - accuracy: 0.9727 - 514ms/epoch - 3ms/step\n",
      "Test loss:  0.09784489125013351\n",
      "Test accuracy:  0.9726999998092651\n",
      "--------------------------------------------------------------------------------\n",
      "Good accuracy!\n",
      "--------------------------------------------------------------------------------\n"
     ]
    }
   ],
   "source": [
    "loss, accuracy = model.evaluate(x_test, y_test, batch_size=batch_size, verbose=2, workers=4, use_multiprocessing=True)\n",
    "print('Test loss: ', loss)\n",
    "print('Test accuracy: ', accuracy)\n",
    "\n",
    "print(\"-\"*80)\n",
    "if accuracy > 0.95:\n",
    "    print('Good accuracy!')\n",
    "else:\n",
    "    print('Bad accuracy')\n",
    "print(\"-\"*80)"
   ]
  },
  {
   "cell_type": "code",
   "execution_count": 121,
   "metadata": {},
   "outputs": [
    {
     "name": "stdout",
     "output_type": "stream",
     "text": [
      "313/313 [==============================] - 1s 2ms/step\n"
     ]
    }
   ],
   "source": [
    "probability_model = keras.Sequential([\n",
    "    model,\n",
    "    keras.layers.Softmax()\n",
    "])\n",
    "\n",
    "predictions = probability_model.predict(x_test)"
   ]
  },
  {
   "cell_type": "code",
   "execution_count": 122,
   "metadata": {},
   "outputs": [],
   "source": [
    "import numpy as np\n",
    "from PIL import Image\n",
    "\n",
    "def preprocess_image(image_path, target_size=(28, 28)):\n",
    "    image = Image.open(image_path)\n",
    "    grayscale_image = image.convert('L')\n",
    "    resized_image = grayscale_image.resize(target_size, Image.ANTIALIAS)\n",
    "    image_array = np.array(resized_image)\n",
    "    image_array = image_array / 255.0\n",
    "\n",
    "    return np.array([image_array])"
   ]
  },
  {
   "cell_type": "code",
   "execution_count": 123,
   "metadata": {},
   "outputs": [
    {
     "name": "stderr",
     "output_type": "stream",
     "text": [
      "C:\\Users\\joshi\\AppData\\Local\\Temp\\ipykernel_9920\\2457580104.py:7: DeprecationWarning: ANTIALIAS is deprecated and will be removed in Pillow 10 (2023-07-01). Use Resampling.LANCZOS instead.\n",
      "  resized_image = grayscale_image.resize(target_size, Image.ANTIALIAS)\n"
     ]
    },
    {
     "data": {
      "image/png": "[encoded data removed]",
      "text/plain": [
       "<Figure size 640x480 with 1 Axes>"
      ]
     },
     "metadata": {},
     "output_type": "display_data"
    }
   ],
   "source": [
    "input_data = preprocess_image('4.png')\n",
    "\n",
    "# Plot the image\n",
    "plt.imshow(input_data[0], cmap='gray')\n",
    "plt.show()"
   ]
  },
  {
   "cell_type": "code",
   "execution_count": 124,
   "metadata": {},
   "outputs": [
    {
     "name": "stdout",
     "output_type": "stream",
     "text": [
      "1/1 [==============================] - 0s 30ms/step\n"
     ]
    }
   ],
   "source": [
    "prediction = probability_model.predict(input_data.reshape(1, 28, 28))"
   ]
  },
  {
   "cell_type": "code",
   "execution_count": 125,
   "metadata": {},
   "outputs": [
    {
     "name": "stdout",
     "output_type": "stream",
     "text": [
      "Predicted number:  [5]\n"
     ]
    }
   ],
   "source": [
    "predicted_number = np.argmax(prediction, axis=1)\n",
    "\n",
    "print('Predicted number: ', predicted_number)"
   ]
  },
  {
   "cell_type": "code",
   "execution_count": 126,
   "metadata": {},
   "outputs": [],
   "source": [
    "# Must improve the model"
   ]
  },
  {
   "cell_type": "code",
   "execution_count": null,
   "metadata": {},
   "outputs": [],
   "source": []
  }
 ],
 "metadata": {
  "kernelspec": {
   "display_name": "Python 3",
   "language": "python",
   "name": "python3"
  },
  "language_info": {
   "codemirror_mode": {
    "name": "ipython",
    "version": 3
   },
   "file_extension": ".py",
   "mimetype": "text/x-python",
   "name": "python",
   "nbconvert_exporter": "python",
   "pygments_lexer": "ipython3",
   "version": "3.10.8"
  },
  "orig_nbformat": 4
 },
 "nbformat": 4,
 "nbformat_minor": 2
}
